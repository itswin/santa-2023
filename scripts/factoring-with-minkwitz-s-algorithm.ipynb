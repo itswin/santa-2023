{
 "cells": [
  {
   "cell_type": "markdown",
   "id": "4f30a010",
   "metadata": {
    "_cell_guid": "b1076dfc-b9ad-4769-8c92-a6c4dae69d19",
    "_uuid": "8f2839f25d086af736a60e9eeb907d3b93b6e0e5",
    "papermill": {
     "duration": 0.010292,
     "end_time": "2024-01-19T09:44:12.238389",
     "exception": false,
     "start_time": "2024-01-19T09:44:12.228097",
     "status": "completed"
    },
    "tags": []
   },
   "source": [
    "An Algorithm for Solving the Factorization Problem in Permutation Groups\n",
    "\n",
    "TORSTEN MINKWITZ\n",
    "\n",
    "Deutsche Telekom AG, Bonn, Germany\n",
    "\n",
    "https://www.sciencedirect.com/science/article/pii/S0747717198902024\n",
    "\n",
    "\n",
    "The algorithm uses a table of coset representatives of the group stabilizers associated to a given base. The choice of this base might strongly affect the resulting word:\n"
   ]
  },
  {
   "cell_type": "code",
   "execution_count": 2,
   "id": "89c4707f",
   "metadata": {
    "execution": {
     "iopub.execute_input": "2024-01-19T09:44:12.260247Z",
     "iopub.status.busy": "2024-01-19T09:44:12.259864Z",
     "iopub.status.idle": "2024-01-19T09:44:15.329794Z",
     "shell.execute_reply": "2024-01-19T09:44:15.328878Z"
    },
    "papermill": {
     "duration": 3.082541,
     "end_time": "2024-01-19T09:44:15.332384",
     "exception": false,
     "start_time": "2024-01-19T09:44:12.249843",
     "status": "completed"
    },
    "tags": []
   },
   "outputs": [],
   "source": [
    "from tqdm import tqdm\n",
    "import pandas as pd\n",
    "import numpy as np\n",
    "import networkx as nx\n",
    "from itertools import chain, product, combinations\n",
    "from sympy.combinatorics.perm_groups import Permutation,PermutationGroup\n",
    "from sympy.combinatorics.perm_groups import _distribute_gens_by_base,_orbits_transversals_from_bsgs\n",
    "\n",
    "p = '../data/'\n",
    "path = pd.read_csv(p + 'puzzles.csv')\n",
    "info = pd.read_csv(p + 'puzzle_info.csv')\n",
    "sub = pd.read_csv(p + 'sample_submission.csv')\n",
    "\n",
    "\n",
    "path = pd.merge(path,info)"
   ]
  },
  {
   "cell_type": "code",
   "execution_count": 3,
   "id": "2d696729",
   "metadata": {
    "_kg_hide-input": true,
    "execution": {
     "iopub.execute_input": "2024-01-19T09:44:15.352137Z",
     "iopub.status.busy": "2024-01-19T09:44:15.351450Z",
     "iopub.status.idle": "2024-01-19T09:44:15.359397Z",
     "shell.execute_reply": "2024-01-19T09:44:15.358500Z"
    },
    "papermill": {
     "duration": 0.020097,
     "end_time": "2024-01-19T09:44:15.361596",
     "exception": false,
     "start_time": "2024-01-19T09:44:15.341499",
     "status": "completed"
    },
    "tags": []
   },
   "outputs": [],
   "source": [
    "# A class for maintainig permutations and factorization over a SGS\n",
    "class PermWord:\n",
    "    def __init__(self, perms=[], words=[]):\n",
    "        self.words = words\n",
    "        self.permutation = perms\n",
    "        self.flag = True\n",
    "\n",
    "    @staticmethod\n",
    "    def is_identity(self):\n",
    "        return (self.words.len()==0)\n",
    "\n",
    "    def inverse(self):\n",
    "        inv_perm = ~self.permutation\n",
    "        inv_word = invwords(self.words)\n",
    "        return PermWord(inv_perm,inv_word)\n",
    "\n",
    "    def __mul__(self, other):\n",
    "        result_perm = self.permutation * other.permutation\n",
    "        result_words = simplify(self.words + other.words)\n",
    "        return PermWord(result_perm, result_words)\n"
   ]
  },
  {
   "cell_type": "code",
   "execution_count": 15,
   "id": "5877706a",
   "metadata": {
    "_kg_hide-input": true,
    "execution": {
     "iopub.execute_input": "2024-01-19T09:44:15.380044Z",
     "iopub.status.busy": "2024-01-19T09:44:15.379549Z",
     "iopub.status.idle": "2024-01-19T09:44:15.400165Z",
     "shell.execute_reply": "2024-01-19T09:44:15.399038Z"
    },
    "papermill": {
     "duration": 0.033111,
     "end_time": "2024-01-19T09:44:15.402849",
     "exception": false,
     "start_time": "2024-01-19T09:44:15.369738",
     "status": "completed"
    },
    "tags": []
   },
   "outputs": [],
   "source": [
    "# A class generating factorization of permutations over a Strong Generating Set (SGS)\n",
    "# The SGS is obtained using the sympy implementation for Schreier–Sims algorith\n",
    "# The Minkwith algorithm (https://www.sciencedirect.com/science/article/pii/S0747717198902024)\n",
    "# is used for mantainig a short word representation \n",
    "\n",
    "deterministic = False\n",
    "\n",
    "class SGSPermutationGroup:\n",
    "    def __init__(self, gensi=[]):\n",
    "        gens = gensi.copy()\n",
    "        gen0= [gensi[p] for p in gens]\n",
    "        \n",
    "        geninvs={}\n",
    "        sizes = []\n",
    "        for s in list(gens):\n",
    "            sizes.append(gens[s].size)\n",
    "            if s[0] != '-': \n",
    "                s1 = ~gens[s]\n",
    "                gens[\"-\" + s] = s1\n",
    "                geninvs[s] = '-' + s\n",
    "                geninvs['-' + s] = s    \n",
    "        self.gens = gens\n",
    "        self.geninvs = geninvs\n",
    "        self.N = max(sizes)\n",
    "        # Create the permutation group\n",
    "        #gen0= [gens[p] for p in gens]\n",
    "        G = PermutationGroup(gen0)\n",
    "        self.G = G\n",
    "        # obtain the strong generating set\n",
    "        if deterministic:\n",
    "            G.schreier_sims()\n",
    "            self.base = G.base\n",
    "            self.bo = G.basic_orbits\n",
    "            self.bt = G.basic_transversals\n",
    "            print(len(self.base))\n",
    "        else:\n",
    "            base,trans, orbits = schreier_sims_random(G)\n",
    "            self.base = base\n",
    "            self.bo = orbits\n",
    "            self.bt = trans\n",
    "        \n",
    "     \n",
    "        self.lo = [len(x) for x in self.bo]\n",
    "        self.so = np.sum(self.lo)\n",
    "        self.nu = None\n",
    "\n",
    "    \n",
    "    #   n: max number of rounds\n",
    "    #   s: reset each s rounds\n",
    "    #   w: limit for word size\n",
    "    \n",
    "    def getShortWords(self,n=10000,s=2000,w=20):\n",
    "        self.nu = buildShortWordsSGS(self.N, self.gens, self.base, n, s, w, self.so)\n",
    "        print(self.nu)\n",
    "\n",
    "\n",
    "    def FactorPermutation(self,target):\n",
    "        if self.nu == None:\n",
    "            print('Execute getShortWords')\n",
    "            return None\n",
    "        return  factorizeM(self.N, self.gens, self.base, self.nu, target)\n",
    "\n",
    "    def CheckQuality(self):\n",
    "        test = test_SGS(self.N,self.nu,self.base)\n",
    "        qual = quality(self.N, self.nu, self.base)\n",
    "        return test,qual\n",
    "\n",
    "    def swapBase(self,i):\n",
    "        S = self.G\n",
    "        base, gens = S.baseswap(S.base, S.strong_gens, i, randomized=False)\n",
    "        self.base = base\n",
    "\n",
    "        \n",
    "        \n",
    "def schreier_sims_random(G):\n",
    "    base, strong_gens = G.schreier_sims_random(consec_succ=5)\n",
    "    strong_gens_distr =_distribute_gens_by_base(base, strong_gens)\n",
    "    basic_orbits, transversals, slps = _orbits_transversals_from_bsgs(base,\\\n",
    "                strong_gens_distr, slp=True)\n",
    "\n",
    "    # rewrite the indices stored in slps in terms of strong_gens\n",
    "    for i, slp in enumerate(slps):\n",
    "        gens = strong_gens_distr[i]\n",
    "        for k in slp:\n",
    "            slp[k] = [strong_gens.index(gens[s]) for s in slp[k]]\n",
    "\n",
    "    transversals = transversals\n",
    "    basic_orbits = [sorted(x) for x in basic_orbits]\n",
    "    return base, transversals,basic_orbits\n",
    "        \n",
    "def applyPerm(sol):\n",
    "    if sol == []:\n",
    "        return Permutation(size = PG.N)\n",
    "    target = PG.gens[sol[0]]\n",
    "    for m in sol[1:]:\n",
    "        target = target*PG.gens[m]\n",
    "    return target       \n"
   ]
  },
  {
   "cell_type": "code",
   "execution_count": 5,
   "id": "90885d74",
   "metadata": {
    "_kg_hide-input": true,
    "execution": {
     "iopub.execute_input": "2024-01-19T09:44:15.420805Z",
     "iopub.status.busy": "2024-01-19T09:44:15.420361Z",
     "iopub.status.idle": "2024-01-19T09:44:15.434372Z",
     "shell.execute_reply": "2024-01-19T09:44:15.433279Z"
    },
    "papermill": {
     "duration": 0.025812,
     "end_time": "2024-01-19T09:44:15.436758",
     "exception": false,
     "start_time": "2024-01-19T09:44:15.410946",
     "status": "completed"
    },
    "tags": []
   },
   "outputs": [],
   "source": [
    "#Check if a solution is valid\n",
    "\n",
    "def apply_move(moves, move, state):\n",
    "    m = move\n",
    "    s = state.split(';')\n",
    "\n",
    "    move_list = moves[m]\n",
    "    new_state = []\n",
    "    for i in move_list:\n",
    "        new_state.append(s[i])\n",
    "    s = new_state\n",
    "\n",
    "    return ';'.join(s)\n",
    "    \n",
    "def init_reverse_moves(moves):\n",
    "    new_moves = {}\n",
    "    \n",
    "    for m in moves.keys():\n",
    "        new_moves[m] = moves[m]\n",
    "        xform = moves[m]\n",
    "        m_inv = '-' + m\n",
    "        xform_inv = len(xform) * [0]\n",
    "        for i in range(len(xform)):\n",
    "            xform_inv[xform[i]] = i\n",
    "        new_moves[m_inv] = xform_inv\n",
    "\n",
    "    return new_moves\n",
    "\n",
    "\n",
    "def validate(moves, initial_state, solution_state, solution, num_wildcards):\n",
    "    sols = solution.split('.')\n",
    "    cur_state = initial_state\n",
    "    for s in sols:\n",
    "        if s not in moves:\n",
    "            return False\n",
    "        cur_state = apply_move(moves, s, cur_state)\n",
    "    err_cnt = sum(c!=e for c,e in zip(cur_state.split(';'), solution_state.split(';')))\n",
    "    if err_cnt <= num_wildcards:\n",
    "        return True,cur_state\n",
    "    else:\n",
    "        return False,cur_state\n",
    "\n",
    "def val_score(i,sol):\n",
    "    initial_state = path.initial_state.values[i]\n",
    "    solution_state = path.solution_state.values[i]\n",
    "    moves = eval(path.allowed_moves.values[i])\n",
    "    moves = init_reverse_moves(moves)\n",
    "    num_wildcards = path.num_wildcards.values[i]\n",
    "    solution = sol\n",
    "\n",
    "    return validate(moves, initial_state, solution_state, solution, num_wildcards)"
   ]
  },
  {
   "cell_type": "code",
   "execution_count": 6,
   "id": "13df51c4",
   "metadata": {
    "_kg_hide-input": true,
    "execution": {
     "iopub.execute_input": "2024-01-19T09:44:15.455151Z",
     "iopub.status.busy": "2024-01-19T09:44:15.454414Z",
     "iopub.status.idle": "2024-01-19T09:44:15.471333Z",
     "shell.execute_reply": "2024-01-19T09:44:15.470451Z"
    },
    "papermill": {
     "duration": 0.028847,
     "end_time": "2024-01-19T09:44:15.473799",
     "exception": false,
     "start_time": "2024-01-19T09:44:15.444952",
     "status": "completed"
    },
    "tags": []
   },
   "outputs": [],
   "source": [
    "#\n",
    "\n",
    "def oneStep(N, gens, base, i, t, nu):\n",
    "    j = t.permutation.array_form[base[i]]  # b_i ^ t\n",
    "    t1 = t.inverse()\n",
    "    if nu[i][j] is not None:\n",
    "        result = t * nu[i][j]\n",
    "        result.words = simplify(result.words)\n",
    "        if len(t.words) < len(nu[i][j].words):\n",
    "            nu[i][j] = t1\n",
    "            oneStep(N, gens, base, i, t1, nu)\n",
    "    else:\n",
    "        nu[i][j] = t1\n",
    "        oneStep(N, gens, base, i, t1, nu)\n",
    "        result =  PermWord(Permutation(N),[])\n",
    "    return result\n",
    "\n",
    "def oneRound(N, gens, base, lim, c, nu, t):\n",
    "    i = c\n",
    "    while i < len(base) and len(t.words)>0 and len(t.words) < lim:\n",
    "        t = oneStep(N, gens, base, i, t, nu)\n",
    "        i += 1\n",
    "\n",
    "def oneImprove(N, gens, base, lim, nu):\n",
    "    for j in range(len(base)):\n",
    "        for x in nu[j]:\n",
    "            for y in nu[j]:\n",
    "                if x != None and y != None  and (x.flag or y.flag):\n",
    "                    t = x * y\n",
    "                    oneRound(N, gens, base, lim, j, nu, t)\n",
    "\n",
    "        for x in nu[j]:\n",
    "            if x is not None:\n",
    "                pw = x\n",
    "                x.flag = False\n",
    "\n",
    "def fillOrbits(N, gens, base, lim, nu):\n",
    "    for i in range(len(base)):\n",
    "        orbit = []  # partial orbit already found\n",
    "        for y in nu[i]:\n",
    "            if y is not None:\n",
    "                j = y.permutation.array_form[base[i]]\n",
    "                if j not in orbit:\n",
    "                    orbit.append(j)\n",
    "        for j in range(i + 1, len(base)):\n",
    "            for x in nu[j]:\n",
    "                if x is not None:\n",
    "                    x1 = x.inverse()\n",
    "                    orbit_x = [x.permutation.array_form[it] for it in orbit]\n",
    "                    new_pts = [p for p in orbit_x if p not in orbit]\n",
    "\n",
    "                    for p in new_pts:\n",
    "                        t1 = x1 * (nu[i][x1.permutation.array_form[p]])\n",
    "                        t1.words = simplify(t1.words)\n",
    "                        if len(t1.words) < lim:\n",
    "                            nu[i][p] = t1"
   ]
  },
  {
   "cell_type": "code",
   "execution_count": 7,
   "id": "2525ac91",
   "metadata": {
    "_kg_hide-input": true,
    "execution": {
     "iopub.execute_input": "2024-01-19T09:44:15.492878Z",
     "iopub.status.busy": "2024-01-19T09:44:15.492083Z",
     "iopub.status.idle": "2024-01-19T09:44:15.510294Z",
     "shell.execute_reply": "2024-01-19T09:44:15.509360Z"
    },
    "papermill": {
     "duration": 0.030457,
     "end_time": "2024-01-19T09:44:15.512751",
     "exception": false,
     "start_time": "2024-01-19T09:44:15.482294",
     "status": "completed"
    },
    "tags": []
   },
   "outputs": [],
   "source": [
    "\n",
    "\n",
    "# Options:\n",
    "#   n: max number of rounds\n",
    "#   s: reset each s rounds\n",
    "#   w: limit for word size\n",
    "#   so: sum  orbits size\n",
    "\n",
    "#\n",
    "def buildShortWordsSGS(N, gens, base, n, s, w, so):\n",
    "    nu = [[None for _ in range(N)] for _ in range(len(base))]\n",
    "    for i in range(len(base)):\n",
    "        nu[i][base[i]] = PermWord(Permutation(N),[])\n",
    "    nw = 0\n",
    "    maximum = n\n",
    "    lim = float(w)\n",
    "    cnt = 0\n",
    "    with tqdm(total= so) as pbar:   \n",
    "        iter_gen = chain.from_iterable(product(list(gens), repeat=i) for i in range(1,12))\n",
    "        for gen in iter_gen:\n",
    "            cnt += 1\n",
    "            if cnt >= maximum or nw == so :\n",
    "                break\n",
    "\n",
    "            perm = gen_perm_from_word(gens,gen)\n",
    "            pw = PermWord(perm,list(gen))\n",
    "            oneRound(N, gens, base, lim, 0, nu, pw)\n",
    "            nw0 =nw\n",
    "            nw =  np.sum([np.sum([x!=None for x in nu_i]) for nu_i in nu])\n",
    "            deltanw = nw-nw0\n",
    "            pbar.update(deltanw)\n",
    "            if cnt % s == 0:\n",
    "                oneImprove(N, gens, base, lim, nu)\n",
    "                if nw < so:\n",
    "                    fillOrbits(N, gens, base, lim, nu)\n",
    "                lim *= 5 / 4\n",
    "                \n",
    "    return nu\n",
    "\n",
    "def factorizeM(N, gens, base, nu, target):\n",
    "    result_list = []\n",
    "    perm = target\n",
    "    for i in range(len(base)):\n",
    "        omega = perm.array_form[base[i]]\n",
    "        perm *= nu[i][omega].permutation\n",
    "        result_list = result_list + nu[i][omega].words\n",
    "\n",
    "    if not perm == Permutation(size = N+1):\n",
    "        print(\"failed to reach identity, permutation not in group\")\n",
    "\n",
    "    return simplify(invwords(result_list))\n",
    "\n",
    "def gen_perm_from_word(gens,words):\n",
    "    res = gens[words[0]]\n",
    "    for w in words[1:]:\n",
    "        res = res * gens[w]\n",
    "    return res\n",
    "\n",
    "def invwords(ws):\n",
    "    inv_ws = [geninvs[g] for g in ws]\n",
    "    inv_ws.reverse() \n",
    "    return inv_ws\n",
    "\n",
    "\n",
    "#remove invers generators in concatenation\n",
    "def simplify(ff):\n",
    "    if not ff:\n",
    "        return ff\n",
    "    # find adjacent inverse generators\n",
    "    zero_sum_indices = [(i, i + 1) for i in range(len(ff) - 1) if ff[i] == geninvs[ff[i + 1]] ]\n",
    "    # If there is no more simplications\n",
    "    if not zero_sum_indices:\n",
    "        return ff\n",
    "    # remove inverse pairs\n",
    "    for start, end in zero_sum_indices:\n",
    "        return simplify(ff[:start] + ff[end + 1:])\n",
    "    return ff"
   ]
  },
  {
   "cell_type": "code",
   "execution_count": 8,
   "id": "c3881121",
   "metadata": {
    "_kg_hide-input": true,
    "execution": {
     "iopub.execute_input": "2024-01-19T09:44:15.531445Z",
     "iopub.status.busy": "2024-01-19T09:44:15.530717Z",
     "iopub.status.idle": "2024-01-19T09:44:15.541171Z",
     "shell.execute_reply": "2024-01-19T09:44:15.540144Z"
    },
    "papermill": {
     "duration": 0.022736,
     "end_time": "2024-01-19T09:44:15.543755",
     "exception": false,
     "start_time": "2024-01-19T09:44:15.521019",
     "status": "completed"
    },
    "tags": []
   },
   "outputs": [],
   "source": [
    "# Test Minwictz algorithm\n",
    "    \n",
    "def test_SGS(N,nu,base):\n",
    "    result = True\n",
    "    for i in range(len(base)):\n",
    "        # diagonal identities\n",
    "        p = nu[i][base[i]].words\n",
    "        if p != []:\n",
    "            result = False\n",
    "            print('fail identity')\n",
    "            \n",
    "        for j in range(N):\n",
    "            if j in nu[i]:\n",
    "                p =nu[i][j].permutation.array_form \n",
    "                # stabilizes points upto i\n",
    "                for k in range(i):\n",
    "                    p2 = p[base[k]]\n",
    "                    if p2 != base[k]:\n",
    "                        result = False\n",
    "                        print('fail stabilizer',i,j,k)\n",
    "\n",
    "                \n",
    "                # correct transversal at i\n",
    "                if p[j] != base[i]:\n",
    "                    result = False  \n",
    "                    print('fail traversal ',i,j)\n",
    "    return result\n",
    "\n",
    "def quality(N, nu, base):\n",
    "    result = 0\n",
    "    for i in range(len(base)):\n",
    "        maxlen = 0\n",
    "        for j in range(N):\n",
    "            if nu[i][j] is not None:\n",
    "                wordlen = len(nu[i][j].words)\n",
    "                if wordlen > maxlen:\n",
    "                    maxlen = wordlen\n",
    "        result += maxlen\n",
    "    return result"
   ]
  },
  {
   "cell_type": "code",
   "execution_count": 9,
   "id": "89a17458",
   "metadata": {
    "_kg_hide-input": true,
    "execution": {
     "iopub.execute_input": "2024-01-19T09:44:15.563997Z",
     "iopub.status.busy": "2024-01-19T09:44:15.563558Z",
     "iopub.status.idle": "2024-01-19T09:44:15.575309Z",
     "shell.execute_reply": "2024-01-19T09:44:15.574198Z"
    },
    "papermill": {
     "duration": 0.02408,
     "end_time": "2024-01-19T09:44:15.577845",
     "exception": false,
     "start_time": "2024-01-19T09:44:15.553765",
     "status": "completed"
    },
    "tags": []
   },
   "outputs": [],
   "source": [
    "def ReduceFactor(PG,s,maxl = 15):\n",
    "    l0 = len(s)\n",
    "    l1 = l0+1\n",
    "    while (l0!=l1):\n",
    "        a= []\n",
    "        # Find shortcuts using fast factorization of permutations\n",
    "        ls = len(s)\n",
    "        for i in range(ls):\n",
    "            for j in range(maxl):\n",
    "                j1= i+j\n",
    "                if j1 < ls:\n",
    "                    target = applyPerm(s[i:j1+1])\n",
    "                    sol = PG.FactorPermutation(target)\n",
    "                    if len(sol)<(j1-i):\n",
    "                        a.append((i,j1+1,{'weight':len(sol)}))\n",
    "        # Find shortest path\n",
    "        G = nx.path_graph(ls+1,nx.DiGraph)\n",
    "        G.add_edges_from(a)\n",
    "        opt = nx.dijkstra_path(G, 0, ls)\n",
    "        #opt = nx.shortest_path(G, 0, ls, method = 'bellman-ford')\n",
    "        sopt =[]\n",
    "        for i,j in zip(opt,opt[1:]):\n",
    "            if j-i == 1:\n",
    "                sopt.append(s[i])\n",
    "            else:\n",
    "                target = applyPerm(s[i:j])\n",
    "                sol= PG.FactorPermutation(target)\n",
    "                sopt = sopt + sol\n",
    "        l1=l0\n",
    "        s = sopt\n",
    "        l0 = len(s) \n",
    "\n",
    "        if applyPerm(s) != applyPerm(sopt):\n",
    "            print('error',s,sopt)  \n",
    "            break\n",
    "    return sopt"
   ]
  },
  {
   "cell_type": "markdown",
   "id": "c2f1d83e",
   "metadata": {
    "papermill": {
     "duration": 0.007952,
     "end_time": "2024-01-19T09:44:15.593981",
     "exception": false,
     "start_time": "2024-01-19T09:44:15.586029",
     "status": "completed"
    },
    "tags": []
   },
   "source": [
    "The Schreier–Sims algorithm is an algorithm in computational group theory, named after the mathematicians Otto Schreier and Charles Sims. This algorithm can find the order of a finite permutation group, test membership (is a given permutation contained in a group?), and many other tasks in polynomial time. It was introduced by Sims in 1970, based on Schreier's subgroup lemma. The timing was subsequently improved by Donald Knuth in 1991. Later, an even faster randomized version of the algorithm was developed. Sympy has an implementation of both deterministic and randomized versions of the algorithm.\n",
    "\n",
    "Let's try an example of the Schreier–Sims algorithm using the permutation group of the 2x2x2 Rubik's Cube."
   ]
  },
  {
   "cell_type": "markdown",
   "id": "ff8a4c03",
   "metadata": {
    "papermill": {
     "duration": 0.007641,
     "end_time": "2024-01-19T09:44:15.609704",
     "exception": false,
     "start_time": "2024-01-19T09:44:15.602063",
     "status": "completed"
    },
    "tags": []
   },
   "source": [
    "Build the Permutation Group"
   ]
  },
  {
   "cell_type": "code",
   "execution_count": 10,
   "id": "7c9c5665",
   "metadata": {
    "execution": {
     "iopub.execute_input": "2024-01-19T09:44:15.628141Z",
     "iopub.status.busy": "2024-01-19T09:44:15.627390Z",
     "iopub.status.idle": "2024-01-19T09:44:15.664006Z",
     "shell.execute_reply": "2024-01-19T09:44:15.662561Z"
    },
    "papermill": {
     "duration": 0.04862,
     "end_time": "2024-01-19T09:44:15.666384",
     "exception": false,
     "start_time": "2024-01-19T09:44:15.617764",
     "status": "completed"
    },
    "tags": []
   },
   "outputs": [
    {
     "name": "stdout",
     "output_type": "stream",
     "text": [
      "Number of generators: 6 Number of points: 24\n",
      "Order: 88179840\n"
     ]
    }
   ],
   "source": [
    "c_type ='cube_2/2/2'\n",
    "gens = eval(info[info.puzzle_type == c_type].allowed_moves.values[0])\n",
    "N =max([max(gens[g]) for g in gens])+1\n",
    "print('Number of generators:',len(gens),'Number of points:',N)\n",
    "gens = {g:Permutation(gens[g],size = N) for g in gens}\n",
    "PG = SGSPermutationGroup(gens)\n",
    "print('Order:',PG.G.order())"
   ]
  },
  {
   "cell_type": "markdown",
   "id": "321a80e9",
   "metadata": {
    "papermill": {
     "duration": 0.007847,
     "end_time": "2024-01-19T09:44:15.682377",
     "exception": false,
     "start_time": "2024-01-19T09:44:15.674530",
     "status": "completed"
    },
    "tags": []
   },
   "source": [
    "Obtain a Strong Generating Set (also called a base) using the Schreier–Sims algorithm.\n",
    "\n",
    "This base allow to factor **any permutation** in the Permutation Group as a composition of **one permutations in each stabilizer** ( or the identity). The problem is that in general those permutations does'nt have a short expression in terms of the group generators .\n",
    "\n",
    "The choice of this base is not unique, allowing to obtain different factorizations of the original permutation depending on yhe bas chosen.\n"
   ]
  },
  {
   "cell_type": "code",
   "execution_count": 11,
   "id": "2c2ac46f",
   "metadata": {
    "execution": {
     "iopub.execute_input": "2024-01-19T09:44:15.700927Z",
     "iopub.status.busy": "2024-01-19T09:44:15.699806Z",
     "iopub.status.idle": "2024-01-19T09:44:15.771912Z",
     "shell.execute_reply": "2024-01-19T09:44:15.770888Z"
    },
    "papermill": {
     "duration": 0.084736,
     "end_time": "2024-01-19T09:44:15.775202",
     "exception": false,
     "start_time": "2024-01-19T09:44:15.690466",
     "status": "completed"
    },
    "tags": []
   },
   "outputs": [
    {
     "name": "stdout",
     "output_type": "stream",
     "text": [
      "Stabilized points: [2, 0, 1, 6, 3, 7, 11]\n",
      "PermutationGroup([\n",
      "    (23)(2 19 21 8)(3 17 20 10)(4 6 7 5),\n",
      "    (0 18 23 9)(1 16 22 11)(12 13 15 14),\n",
      "    (1 5 21 14)(3 7 23 12)(8 10 11 9),\n",
      "    (23)(0 4 20 15)(2 6 22 13)(16 17 19 18),\n",
      "    (6 18 14 10)(7 19 15 11)(20 22 23 21),\n",
      "    (23)(0 1 3 2)(4 16 12 8)(5 17 13 9),\n",
      "    (3 7 5 21 8 10)(11 15 14 18 23 22),\n",
      "    (3 11 7 18)(5 23 21 15)(8 14 10 22),\n",
      "    (7 10 21)(11 14 23)(15 18 22),\n",
      "    (11 23 14)(15 18 22),\n",
      "    (7 14 10 23 21 11)(15 22 18),\n",
      "    (11 15)(14 18)(22 23)])\n",
      "PermutationGroup([\n",
      "    (0 18 23 9)(1 16 22 11)(12 13 15 14),\n",
      "    (1 5 21 14)(3 7 23 12)(8 10 11 9),\n",
      "    (6 18 14 10)(7 19 15 11)(20 22 23 21),\n",
      "    (3 7 5 21 8 10)(11 15 14 18 23 22),\n",
      "    (3 11 7 18)(5 23 21 15)(8 14 10 22),\n",
      "    (7 10 21)(11 14 23)(15 18 22),\n",
      "    (11 23 14)(15 18 22),\n",
      "    (7 14 10 23 21 11)(15 22 18),\n",
      "    (11 15)(14 18)(22 23)])\n",
      "PermutationGroup([\n",
      "    (1 5 21 14)(3 7 23 12)(8 10 11 9),\n",
      "    (6 18 14 10)(7 19 15 11)(20 22 23 21),\n",
      "    (3 7 5 21 8 10)(11 15 14 18 23 22),\n",
      "    (3 11 7 18)(5 23 21 15)(8 14 10 22),\n",
      "    (7 10 21)(11 14 23)(15 18 22),\n",
      "    (11 23 14)(15 18 22),\n",
      "    (7 14 10 23 21 11)(15 22 18),\n",
      "    (11 15)(14 18)(22 23)])\n",
      "PermutationGroup([\n",
      "    (6 18 14 10)(7 19 15 11)(20 22 23 21),\n",
      "    (3 7 5 21 8 10)(11 15 14 18 23 22),\n",
      "    (3 11 7 18)(5 23 21 15)(8 14 10 22),\n",
      "    (7 10 21)(11 14 23)(15 18 22),\n",
      "    (11 23 14)(15 18 22),\n",
      "    (7 14 10 23 21 11)(15 22 18),\n",
      "    (11 15)(14 18)(22 23)])\n",
      "PermutationGroup([\n",
      "    (3 7 5 21 8 10)(11 15 14 18 23 22),\n",
      "    (3 11 7 18)(5 23 21 15)(8 14 10 22),\n",
      "    (7 10 21)(11 14 23)(15 18 22),\n",
      "    (11 23 14)(15 18 22),\n",
      "    (7 14 10 23 21 11)(15 22 18),\n",
      "    (11 15)(14 18)(22 23)])\n",
      "PermutationGroup([\n",
      "    (7 10 21)(11 14 23)(15 18 22),\n",
      "    (11 23 14)(15 18 22),\n",
      "    (7 14 10 23 21 11)(15 22 18),\n",
      "    (11 15)(14 18)(22 23)])\n",
      "PermutationGroup([\n",
      "    (11 23 14)(15 18 22),\n",
      "    (11 15)(14 18)(22 23)])\n"
     ]
    }
   ],
   "source": [
    "PG.G.schreier_sims()\n",
    "print('Stabilized points:',PG.G.base)\n",
    "for g in PG.G.basic_stabilizers:\n",
    "    print(g)"
   ]
  },
  {
   "cell_type": "markdown",
   "id": "62bff97e",
   "metadata": {
    "execution": {
     "iopub.execute_input": "2024-01-18T13:38:21.411345Z",
     "iopub.status.busy": "2024-01-18T13:38:21.410734Z",
     "iopub.status.idle": "2024-01-18T13:38:21.419918Z",
     "shell.execute_reply": "2024-01-18T13:38:21.418084Z",
     "shell.execute_reply.started": "2024-01-18T13:38:21.411304Z"
    },
    "papermill": {
     "duration": 0.007988,
     "end_time": "2024-01-19T09:44:15.791989",
     "exception": false,
     "start_time": "2024-01-19T09:44:15.784001",
     "status": "completed"
    },
    "tags": []
   },
   "source": [
    "For instance for the firsts 2x2x2  cube the permutation is:"
   ]
  },
  {
   "cell_type": "code",
   "execution_count": 12,
   "id": "7562b045",
   "metadata": {
    "execution": {
     "iopub.execute_input": "2024-01-19T09:44:15.810254Z",
     "iopub.status.busy": "2024-01-19T09:44:15.809842Z",
     "iopub.status.idle": "2024-01-19T09:44:15.869466Z",
     "shell.execute_reply": "2024-01-19T09:44:15.868307Z"
    },
    "papermill": {
     "duration": 0.072089,
     "end_time": "2024-01-19T09:44:15.872323",
     "exception": false,
     "start_time": "2024-01-19T09:44:15.800234",
     "status": "completed"
    },
    "tags": []
   },
   "outputs": [
    {
     "name": "stdout",
     "output_type": "stream",
     "text": [
      "['-f1', 'r1'] (0 9 23 16 1 11 13 12 14)(2 6 22 17 19 18 4 20 15)\n"
     ]
    },
    {
     "data": {
      "text/plain": [
       "[Permutation(23)(0, 4, 20, 15)(2, 6, 22, 13)(16, 17, 19, 18),\n",
       " Permutation(0, 9, 23, 18)(1, 11, 22, 16)(12, 14, 15, 13),\n",
       " Permutation(23),\n",
       " Permutation(23),\n",
       " Permutation(23),\n",
       " Permutation(23),\n",
       " Permutation(23)]"
      ]
     },
     "metadata": {},
     "output_type": "display_data"
    },
    {
     "name": "stdout",
     "output_type": "stream",
     "text": [
      "['-f0', '-f1', '-d1', '-d0', 'r0', '-d1', '-d0', '-f1', '-d0', 'd1', 'f1', '-r1', '-f1', '-d1', '-d0', 'r0', '-d1', 'f1', '-d0', '-d0', '-r0', 'd0', '-d1', 'f1', '-f0', 'f1', '-r1', '-r0', 'd0', '-f1', '-d0', 'r0', '-d0', '-d0', '-r0', '-d0', '-r0', 'd0', 'd1', 'f1', '-d0', '-d0', '-r0', 'd0', 'd1', 'f1', 'r0', 'd1', 'f1', '-r1', '-d1', 'f1', '-r0', '-f1', 'f0', '-r0', 'd0', '-f1', '-d0', '-f1', '-r0', 'd0', 'f1'] (0 16 13)(1 22 12 15 9 18)(2 7 14 19 5 4 10 23 6 3 17 21 11 20 8)\n"
     ]
    },
    {
     "data": {
      "text/plain": [
       "[Permutation(23)(0, 6, 22, 13, 19, 18, 16, 20, 15)(2, 7, 5, 4, 10, 3, 17, 21, 8),\n",
       " Permutation(0, 18, 23, 9)(1, 16, 22, 11)(12, 13, 15, 14),\n",
       " Permutation(1, 6, 14, 22, 21, 5)(3, 12, 20, 23, 15, 7)(8, 9, 19, 11, 18, 10),\n",
       " Permutation(6, 18, 14, 10)(7, 19, 15, 11)(20, 22, 23, 21),\n",
       " Permutation(3, 11, 7, 18)(5, 23, 21, 15)(8, 14, 10, 22),\n",
       " Permutation(7, 10, 21)(11, 14, 23)(15, 18, 22),\n",
       " Permutation(11, 22)(14, 15)(18, 23)]"
      ]
     },
     "metadata": {},
     "output_type": "display_data"
    },
    {
     "name": "stdout",
     "output_type": "stream",
     "text": [
      "['-f1', 'r1', 'f1', '-d0', 'r0', 'f1', 'r0', '-d1', 'f1', 'r0', 'f0', 'r1', '-f0', '-r1', '-f0', '-r0', 'f1', 'r1', 'f1', '-d0', 'r0', 'f1', 'r0', '-d1', '-f0', '-d1', '-f1', '-d0', '-f1', '-r1', '-f1', '-r1', '-r1', '-f0', '-f1', '-r1', '-f1', '-r1', '-r1', '-f0', '-r0', '-f1', '-r1', '-r0', '-f1', '-f0', '-r1', '-f0', '-r0', '-d0', 'r0', '-f0', '-r1', '-f0', '-r0', 'f1', '-f0', '-d1', 'r0', '-d1', 'd0', 'f1'] (0 10 2 16 21 4 13 7 17)(1 15 6 9 22 19 12 18 20)(3 5 8)(11 14 23)\n"
     ]
    },
    {
     "data": {
      "text/plain": [
       "[Permutation(23)(0, 20, 10, 3, 18, 17)(2, 16, 19, 21, 8, 22)(4, 13, 6, 7, 5, 15),\n",
       " Permutation(0, 20, 23)(1, 21, 22)(6, 14, 13)(7, 15, 12)(9, 10, 18)(11, 16, 19),\n",
       " Permutation(1, 5, 21, 14)(3, 7, 23, 12)(8, 10, 11, 9),\n",
       " Permutation(6, 18, 14, 10)(7, 19, 15, 11)(20, 22, 23, 21),\n",
       " Permutation(3, 22, 10, 14)(5, 18, 7, 11)(8, 15, 21, 23),\n",
       " Permutation(7, 23)(10, 11)(14, 21),\n",
       " Permutation(11, 22)(14, 15)(18, 23)]"
      ]
     },
     "metadata": {},
     "output_type": "display_data"
    }
   ],
   "source": [
    "for i in range(3):\n",
    "    sol = sub[sub.id ==i].moves.values[0]\n",
    "    sol = sol.split('.')\n",
    "    sol.reverse()\n",
    "    target = applyPerm(sol)\n",
    "    print(sol,target)\n",
    "    seq = PG.G.coset_factor(target)\n",
    "    display(seq)\n"
   ]
  },
  {
   "cell_type": "markdown",
   "id": "0f23b5a4",
   "metadata": {
    "execution": {
     "iopub.execute_input": "2024-01-18T13:38:41.856719Z",
     "iopub.status.busy": "2024-01-18T13:38:41.856301Z",
     "iopub.status.idle": "2024-01-18T13:38:41.868503Z",
     "shell.execute_reply": "2024-01-18T13:38:41.866818Z",
     "shell.execute_reply.started": "2024-01-18T13:38:41.856678Z"
    },
    "papermill": {
     "duration": 0.009088,
     "end_time": "2024-01-19T09:44:15.890693",
     "exception": false,
     "start_time": "2024-01-19T09:44:15.881605",
     "status": "completed"
    },
    "tags": []
   },
   "source": [
    "In order to be able to write this factors in terms of the generators of the Permutation Group we need to mantain during the calculations the expresion for the permutations in terms of the generators, and try to minimimize the lenght of these expressions. This is what does the Minkwitz algorithm.\n",
    "\n"
   ]
  },
  {
   "cell_type": "code",
   "execution_count": 20,
   "id": "9fa01bbd",
   "metadata": {
    "execution": {
     "iopub.execute_input": "2024-01-19T09:44:15.910689Z",
     "iopub.status.busy": "2024-01-19T09:44:15.910289Z",
     "iopub.status.idle": "2024-01-19T09:44:16.596891Z",
     "shell.execute_reply": "2024-01-19T09:44:16.595152Z"
    },
    "papermill": {
     "duration": 0.700365,
     "end_time": "2024-01-19T09:44:16.600249",
     "exception": false,
     "start_time": "2024-01-19T09:44:15.899884",
     "status": "completed"
    },
    "tags": []
   },
   "outputs": [
    {
     "name": "stderr",
     "output_type": "stream",
     "text": [
      "100%|██████████| 105/105 [00:00<00:00, 729.51it/s]"
     ]
    },
    {
     "name": "stdout",
     "output_type": "stream",
     "text": [
      "\n",
      "0 [['-d1'], ['-d1', '-d1'], [], ['d1'], ['f0', '-r1'], ['f1', '-r0', '-f1', 'r0', 'f1', 'r0', '-f1', '-r0', '-r0', 'f1', '-r0', '-r0', '-f1', 'r0', '-d1', 'f1', 'd1', '-r1', '-r1'], ['-r1'], ['-d1', '-r1', 'd1', 'f1', 'r0', '-d0', '-r1', '-r1'], ['f0'], ['r0', 'r0', 'd0', '-r1'], ['f1', 'r0', '-f1', '-r1', '-r1'], ['d0', 'r0', 'f0', 'd1', '-f0', '-r0', '-d0', '-f1', '-r1', '-r1'], ['r0', 'r0', 'd0', '-f0'], ['r1'], ['f1', '-d1', 'd0', '-f0', 'd0', '-r1', '-d0', '-d0', 'r0', '-f1', '-r0', '-r0', '-r1', '-r1'], ['f1', 'r0', '-f1', 'r0', 'f1', 'r0', '-f1', '-r0', '-r0', 'd0', 'r0', '-d0', '-r0', 'f0'], ['-f1', '-f1', '-d0', '-d0', '-f1', '-f0'], ['r1', '-f0'], ['-d0', 'f0', '-r0', '-f0', 'r0', 'r0', 'd1', '-f0', '-d1', 'd0', 'r0', '-d0', '-r0', 'd1'], ['-f0'], ['r0', 'd1', '-d0', '-f0', '-d1', '-f0'], ['-f0', '-f0'], ['-r1', '-r1'], ['f0', 'r0', '-d1', '-f0', '-r0', 'f1', '-f0', '-d1', 'r0', 'd1', '-r1', '-r1']]\n",
      "\n",
      "1 [[], ['r0', 'r0', '-d0', '-f1', '-f1'], ['-d0', 'f0', '-r0', '-f0', 'r0', 'r0', 'd1', '-f0', '-d1', 'd0', 'r0', '-d0', '-r0', '-f1'], ['f1', 'r0', '-f1', 'r0', 'f1', 'r0', '-f1', '-r0', '-r0', 'd0', 'r0', '-d0', '-r0', '-f1'], ['d0', '-f1'], ['r0', 'r0', 'f1', '-r0', '-f1', '-r0', '-f1', '-f1'], ['-r0', 'f1'], ['f1'], ['-d0', '-d0', '-f1'], ['r0', 'f1'], ['r0', 'r0', '-d0', 'r0', 'f1'], ['f0', 'd1', 'f1', '-f0'], ['-d1', '-f1', 'd1', '-r0', 'f1', 'r0', '-f1', 'r0', 'f1'], ['f1', 'r0', '-f1', 'r0', 'f1', 'r0', '-f1', '-r0', '-r0', 'd0', 'r0', '-d0', '-r0', '-r0', 'f1'], ['f0', '-f1', '-d1', '-f0'], ['-f1'], ['d1', 'r1', '-d1', 'f0', '-f1'], ['-r0', 'f0', 'r0', '-f0', 'r0', 'f1'], ['-d1', '-r1', 'd1', 'f1', 'r0', '-d0', '-f1'], ['-d0', 'f0', '-r0', '-f0', 'r0', 'r0', 'd1', '-f0', '-d1', 'd0', 'r0', '-d0', '-r0', '-r0', 'f1'], ['-f1', '-f1']]\n",
      "\n",
      "2 [[], ['-d0', 'f0', '-r0', '-f0', 'r0', 'r0', 'd1', '-f0', '-d1', 'd0', 'r0', '-d0', '-r0', 'd0', 'r0'], ['-r0'], ['r1', '-f1', '-f1', '-r1'], ['f0', 'd0', 'f0', '-d0', '-r0', '-f0', '-r0'], ['f1', '-r0', '-f1', 'r0', 'f1', 'r0', '-f1', '-r0', '-r0', 'f1', '-r0', '-r0', '-f1', 'r0', '-d1', 'f1', 'd1', 'd0', 'r0'], ['r1', '-r0', 'f1', '-r1'], ['r0', '-d1', '-r1', 'd1', 'f1'], ['f1', '-d1', 'd0', '-f0', 'd0', '-r1', '-d0', '-d0', 'r0', '-f1', '-r0', '-r0', 'd0', 'r0'], ['r1', '-f1', 'r0', '-r1'], ['r0'], ['-d0', 'f0', '-r0', '-f0', 'r0', 'r0', 'd1', '-f0', '-d1', 'd0', 'r0', '-d0', '-r0', '-r0'], ['d0', 'r0'], ['f0', '-r0', '-r0', '-f0'], ['r0', 'd1', '-d0', '-f0', '-d1', 'f0', '-r0', '-r0', '-f0'], ['-r0', '-r0'], ['f1', '-r0', '-f1', 'r0', 'f1', 'r0', '-f1', '-r0', '-r0', 'f1', '-r0', '-r0', '-f1', 'r0', '-d1', 'f1', 'd1', '-r0'], ['-d1', '-f1', 'd1', '-r0', 'f1', 'r0', '-f1', 'r0']]\n",
      "\n",
      "3 [['-d0', 'f0', '-r0', '-f0', 'r0', 'r0', 'd1', '-f0', '-d1', 'd0', 'r0', '-d0', '-r0', '-d0'], ['f1', 'r0', '-f1', 'r0', 'f1', 'r0', '-f1', '-r0', '-r0', 'd0', 'r0', '-d0', '-r0', '-d0'], [], ['r0', 'r0', 'f1', '-r0', '-f1', '-r0', 'f0', '-r0', '-f0', 'r0'], ['r0', 'd0', '-r0'], ['d0'], ['-r0', 'f0', 'r0', '-f0'], ['-d0', '-d0'], ['f1', 'r0', '-f1', 'r0', 'f1', 'r0', '-f1', '-r0', '-r0', 'd0'], ['-d0'], ['r0', 'd1', '-d0', '-f0', '-d1'], ['d1', 'f0', 'd0', '-d1', '-r0'], ['r0', '-d0', '-d0', '-r0'], ['-d0', 'f0', '-r0', '-f0', 'r0', 'r0', 'd1', '-f0', '-d1', 'd0'], ['f0', '-r0', '-f0', 'r0']]\n",
      "\n",
      "4 [['f1', 'r0', '-f1'], ['f1', 'r0', '-f1', 'r0', 'f1', 'r0', '-f1', '-r0', '-r0', 'd0', 'r0', '-d0', '-r0', 'f1', '-r0', '-f1'], [], ['r0', 'r0', 'd0', 'r1', 'r1', 'd1', '-r1', '-r1'], ['f0', 'd0', 'f0', '-d0', '-r0', '-f0', 'r0'], ['r0', 'r0', 'f1', '-r0', '-f1', '-r0'], ['f1', '-r0', '-r0', '-f1'], ['f1', 'r0', '-f1', 'r0', 'f1', 'r0', '-f1', '-r0', '-r0', 'd0', 'r0', '-d0', 'r0', 'd0', 'r1', 'r1', 'd1', '-r1', '-r1'], ['f1', '-r0', '-f1'], ['-r0', 'f0', 'r0', 'd0', '-f0', '-d0', '-f0'], ['f1', 'r0', '-f1', 'r0', 'f1', 'r0', '-f1', '-r0', '-r0', 'd0', 'r0', '-d0', '-r0', 'f1', 'r0', '-f1'], ['r0', 'f1', 'r0', '-f1', '-r0', '-r0']]\n",
      "\n",
      "5 [['d1', 'f0', '-d1', '-r0', '-f0', '-d0', 'f0', 'd0', 'd0'], ['d0', 'r0', 'f0', 'd1', '-f0', '-r0', '-d0', '-f1'], ['-d0', '-d0', '-f0', 'd0', 'f0', 'r0', 'd1', '-f0', '-d1'], [], ['-d1', '-f1', 'd1', '-r0', 'f1', 'r0', '-f1'], ['f1', 'r0', '-f1', 'r0', 'f1', 'r0', '-f1', '-r0', '-r0', 'd0', 'r0', '-d0', '-r0', '-d0', '-d0', '-f0', 'd0', 'f0', 'r0', 'd1', '-f0', '-d1'], ['f1', 'r0', '-f1', 'r0', 'f1', 'r0', '-f1', '-r0', '-r0', 'd0', 'r0', '-d0', '-r0', 'd0', 'r0', 'f0', 'd1', '-f0', '-r0', '-d0', '-f1'], ['f1', 'd0', 'r0', 'f0', '-d1', '-f0', '-r0', '-d0'], ['f1', '-r0', '-f1', 'r0', '-d1', 'f1', 'd1']]\n",
      "\n",
      "6 [[], ['r0', 'f1', 'r0', '-f1', '-r0', '-r0', 'd0', 'd0', 'f1', '-r0', '-f1', '-d0'], ['d0', 'f1', 'r0', '-f1', '-d0', '-d0', 'r0', 'r0', 'f1', '-r0', '-f1', '-r0'], ['-d1', '-f1', 'd1', '-r0', 'f1', 'r0', 'r0', '-f1', 'r0', 'r0', 'f1', '-r0', '-f1', '-r0', 'f1', 'r0', '-f1'], ['r0', 'd0', '-r0', '-d0', 'd1', 'f0', '-d1', '-r0', '-r0', 'f0', 'r0', '-f0', 'd0'], ['r0', 'd0', '-r0', '-d0', 'r0', 'r0', 'f1', '-r0', '-f1', '-r0', 'f1', '-r0', '-f1']]\n",
      "\n",
      "[2, 0, 1, 6, 7, 11, 3]\n"
     ]
    },
    {
     "name": "stderr",
     "output_type": "stream",
     "text": [
      "\n"
     ]
    }
   ],
   "source": [
    "geninvs = PG.geninvs\n",
    "PG.getShortWords(n=100000, s=1000, w=500)\n",
    "print()\n",
    "for i in range(len(PG.base)):\n",
    "    print(i, [PG.nu[i][j].words for j in PG.bo[i] if PG.nu[i][j] != None])\n",
    "    print()\n",
    "\n",
    "print(PG.base)"
   ]
  },
  {
   "cell_type": "markdown",
   "id": "a06223e4",
   "metadata": {
    "execution": {
     "iopub.execute_input": "2024-01-18T13:55:07.970074Z",
     "iopub.status.busy": "2024-01-18T13:55:07.969574Z",
     "iopub.status.idle": "2024-01-18T13:55:07.980428Z",
     "shell.execute_reply": "2024-01-18T13:55:07.978181Z",
     "shell.execute_reply.started": "2024-01-18T13:55:07.970036Z"
    },
    "papermill": {
     "duration": 0.011271,
     "end_time": "2024-01-19T09:44:16.623708",
     "exception": false,
     "start_time": "2024-01-19T09:44:16.612437",
     "status": "completed"
    },
    "tags": []
   },
   "source": [
    "Once we have the base elements written in terms of the generators, we can obtain the factorization of the original permutation in terms of the base elements instantly."
   ]
  },
  {
   "cell_type": "code",
   "execution_count": 14,
   "id": "54e35116",
   "metadata": {
    "execution": {
     "iopub.execute_input": "2024-01-19T09:44:16.650786Z",
     "iopub.status.busy": "2024-01-19T09:44:16.649982Z",
     "iopub.status.idle": "2024-01-19T09:44:16.716496Z",
     "shell.execute_reply": "2024-01-19T09:44:16.715346Z"
    },
    "papermill": {
     "duration": 0.082645,
     "end_time": "2024-01-19T09:44:16.718937",
     "exception": false,
     "start_time": "2024-01-19T09:44:16.636292",
     "status": "completed"
    },
    "tags": []
   },
   "outputs": [
    {
     "data": {
      "text/plain": [
       "0"
      ]
     },
     "metadata": {},
     "output_type": "display_data"
    },
    {
     "data": {
      "text/plain": [
       "'-f1.r1'"
      ]
     },
     "metadata": {},
     "output_type": "display_data"
    },
    {
     "data": {
      "text/plain": [
       "1"
      ]
     },
     "metadata": {},
     "output_type": "display_data"
    },
    {
     "data": {
      "text/plain": [
       "'-d0.f0.-r0.-f0.r0.r0.d1.-f0.-d1.d0.r0.-d0.-r0.r1.r1.-d1.-r1.-r1.-d0.-r0.d0.-r0.-d0.r0.r0.f1.-r0.-f1.-r0.f1.-r0.-f1.-d0.-r0.-d0.r0.d0.-r0.-d0.d1.f0.-d1.-r0.-r0.f0.r0.-f0.d0.f1.-f0.d1.-r1.-d1.r1.r1.d0.-r0.-f1.-d1.r1.d1'"
      ]
     },
     "metadata": {},
     "output_type": "display_data"
    },
    {
     "data": {
      "text/plain": [
       "2"
      ]
     },
     "metadata": {},
     "output_type": "display_data"
    },
    {
     "data": {
      "text/plain": [
       "'r0.f1.r0.-f1.-r0.-r0.d0.d0.f1.-r0.-f1.-d0.f1.d0.r0.f0.-d1.-f0.-r0.-d0.r0.f1.r0.-f1.-r0.d1.-d0.-f0.-d1.-r0.f0.f1.d0.d0.f1.f1'"
      ]
     },
     "metadata": {},
     "output_type": "display_data"
    },
    {
     "data": {
      "text/plain": [
       "3"
      ]
     },
     "metadata": {},
     "output_type": "display_data"
    },
    {
     "data": {
      "text/plain": [
       "'d1.f0.-d1.-r0.-f0.-d0.f0.d0.d0.r0.d0.-r0.-d0.r0.r0.f1.-r0.-f1.-r0.f1.-r0.-f1.-r0.f0.r0.d0.-f0.-d0.-f0.d0.f0.r0.r0.-f0.-f1.-r0.f0.-r0.-f0.r0.r1.r1.f1.d0.r0.f0.-d1.-f0.-r0.-d0'"
      ]
     },
     "metadata": {},
     "output_type": "display_data"
    },
    {
     "data": {
      "text/plain": [
       "4"
      ]
     },
     "metadata": {},
     "output_type": "display_data"
    },
    {
     "data": {
      "text/plain": [
       "'d1.f0.-d1.-r0.-f0.-d0.f0.d0.d0.r0.d0.-r0.-d0.r0.r0.f1.-r0.-f1.-r0.f1.-r0.-f1.-r0.f0.r0.d0.-f0.-d0.-f0.r0.d1.-d0.-f0.-d1.r1.-f1.r0.-r1.f0.-f1.-d1.-f0.r1.-f0'"
      ]
     },
     "metadata": {},
     "output_type": "display_data"
    },
    {
     "data": {
      "text/plain": [
       "5"
      ]
     },
     "metadata": {},
     "output_type": "display_data"
    },
    {
     "data": {
      "text/plain": [
       "'f1.r0.-f1.r0.d0.-r0.-d0.r0.r0.f1.-r0.-f1.-r0.f1.-r0.-f1.f0.-r0.-f0.r0.r0.r0.d0.-r0.-d0.d1.f0.-d1.-r0.-r0.f0.r0.-f0.d0.r1.-f0'"
      ]
     },
     "metadata": {},
     "output_type": "display_data"
    },
    {
     "data": {
      "text/plain": [
       "6"
      ]
     },
     "metadata": {},
     "output_type": "display_data"
    },
    {
     "data": {
      "text/plain": [
       "'d1.f0.-d1.-r0.-f0.-d0.f0.d0.d0.f1.r0.r0.-f1.r0.-d0.r0.f1.f1.r0.f1.r0.-f1.-r0.-r0.f0.-r1'"
      ]
     },
     "metadata": {},
     "output_type": "display_data"
    },
    {
     "data": {
      "text/plain": [
       "7"
      ]
     },
     "metadata": {},
     "output_type": "display_data"
    },
    {
     "data": {
      "text/plain": [
       "'r0.f1.r0.-f1.-r0.-r0.d0.d0.f1.-r0.-f1.-d0.-d1.-f1.d1.-r0.f1.r0.r0.-f1.d1.f0.d0.-d1.-r0.-r0.-d0.r0.r0.f1.-r0.d0.d0.r1.-d0.f0.-d0.d1.f1.d0.-r0.-r0.r1.r1.-d1.-f1.d1.-r0.f1.r0.r0.-f1.r0.r0.f1.-r0.-f1.-r0.f1.r0.-f1'"
      ]
     },
     "metadata": {},
     "output_type": "display_data"
    },
    {
     "data": {
      "text/plain": [
       "8"
      ]
     },
     "metadata": {},
     "output_type": "display_data"
    },
    {
     "data": {
      "text/plain": [
       "'r0.f1.r0.-f1.-r0.-r0.d0.d0.f1.-r0.-f1.-d0.d1.f0.-d1.-r0.-f0.-d0.f0.d0.d0.f0.-r0.-f0.r0.-f1.-d1.r1.d1.-r0.f1.f1.d0.-r0.-r0.r1.r1.f1.-r0.-f1'"
      ]
     },
     "metadata": {},
     "output_type": "display_data"
    },
    {
     "data": {
      "text/plain": [
       "9"
      ]
     },
     "metadata": {},
     "output_type": "display_data"
    },
    {
     "data": {
      "text/plain": [
       "'d0.f1.r0.-f1.-d0.-d0.r0.r0.f1.-r0.-f1.-r0.f1.d0.r0.f0.-d1.-f0.-r0.-d0.f1.r0.-f1.d0.d0.r0.r0.d0.-r0.-d0.d1.f0.-d1.-r0.-r0.f0.r0.-f0.d0.-f1.-r0.f1.-r0.-f1.r0.-d1.f1.d1.f0.-d0.-r0.-r0'"
      ]
     },
     "metadata": {},
     "output_type": "display_data"
    }
   ],
   "source": [
    "for i in range(10):\n",
    "    sol = sub[sub.id ==i].moves.values[0]\n",
    "    sol = sol.split('.')\n",
    "    sol.reverse()\n",
    "    target = applyPerm(sol)\n",
    "    ss = PG.FactorPermutation(target)\n",
    "    ss.reverse\n",
    "    display(i,'.'.join(ss))\n"
   ]
  },
  {
   "cell_type": "markdown",
   "id": "0657ff72",
   "metadata": {
    "papermill": {
     "duration": 0.012952,
     "end_time": "2024-01-19T09:44:16.745207",
     "exception": false,
     "start_time": "2024-01-19T09:44:16.732255",
     "status": "completed"
    },
    "tags": []
   },
   "source": [
    "We apply this method to the some puzzle."
   ]
  },
  {
   "cell_type": "code",
   "execution_count": 14,
   "id": "41e9b63b",
   "metadata": {
    "execution": {
     "iopub.execute_input": "2024-01-19T09:44:16.772597Z",
     "iopub.status.busy": "2024-01-19T09:44:16.772177Z",
     "iopub.status.idle": "2024-01-19T09:44:16.777185Z",
     "shell.execute_reply": "2024-01-19T09:44:16.775966Z"
    },
    "papermill": {
     "duration": 0.021599,
     "end_time": "2024-01-19T09:44:16.779575",
     "exception": false,
     "start_time": "2024-01-19T09:44:16.757976",
     "status": "completed"
    },
    "tags": []
   },
   "outputs": [],
   "source": [
    "ltypes = [\n",
    "'cube_2/2/2',\n",
    "'wreath_6/6',\n",
    "'wreath_7/7',\n",
    "'globe_6/4'\n",
    "]\n",
    "\n"
   ]
  },
  {
   "cell_type": "code",
   "execution_count": 15,
   "id": "e4bbaba4",
   "metadata": {
    "execution": {
     "iopub.execute_input": "2024-01-19T09:44:16.807006Z",
     "iopub.status.busy": "2024-01-19T09:44:16.806534Z",
     "iopub.status.idle": "2024-01-19T09:47:15.585408Z",
     "shell.execute_reply": "2024-01-19T09:47:15.584119Z"
    },
    "papermill": {
     "duration": 178.795834,
     "end_time": "2024-01-19T09:47:15.588252",
     "exception": false,
     "start_time": "2024-01-19T09:44:16.792418",
     "status": "completed"
    },
    "tags": []
   },
   "outputs": [
    {
     "name": "stdout",
     "output_type": "stream",
     "text": [
      "cube_2/2/2\n",
      "Sum moves  2275\n",
      "Dim: 24 Lenght base; 7 Sum Orbits: 105\n"
     ]
    },
    {
     "name": "stderr",
     "output_type": "stream",
     "text": [
      "100%|██████████| 105/105 [00:00<00:00, 159.59it/s]\n"
     ]
    },
    {
     "name": "stdout",
     "output_type": "stream",
     "text": [
      "(True, 110)\n",
      "0 2 -> 2 True\n",
      "1 63 -> 49 True\n",
      "2 62 -> 24 True\n",
      "3 92 -> 62 True\n",
      "4 70 -> 38 True\n",
      "5 54 -> 32 True\n",
      "6 68 -> 38 True\n",
      "7 83 -> 53 True\n",
      "8 98 -> 54 True\n",
      "9 76 -> 72 True\n",
      "10 66 -> 60 True\n",
      "11 63 -> 49 True\n",
      "12 72 -> 38 True\n",
      "13 131 -> 61 True\n",
      "14 96 -> 64 True\n",
      "15 68 -> 38 True\n",
      "16 63 -> 33 True\n",
      "17 62 -> 52 True\n",
      "18 89 -> 51 True\n",
      "19 82 -> 74 True\n",
      "20 112 -> 58 True\n",
      "21 96 -> 66 True\n",
      "22 63 -> 35 True\n",
      "23 53 -> 27 True\n",
      "24 99 -> 29 True\n",
      "25 61 -> 53 True\n",
      "26 93 -> 33 True\n",
      "27 73 -> 51 True\n",
      "28 83 -> 65 True\n",
      "29 82 -> 44 True\n",
      "Sum moves 1405\n",
      "wreath_6/6\n",
      "Sum moves  7888\n",
      "Dim: 10 Lenght base; 9 Sum Orbits: 54\n"
     ]
    },
    {
     "name": "stderr",
     "output_type": "stream",
     "text": [
      "100%|██████████| 54/54 [00:00<00:00, 454.15it/s]\n"
     ]
    },
    {
     "name": "stdout",
     "output_type": "stream",
     "text": [
      "(True, 98)\n",
      "284 339 -> 51 True\n",
      "285 335 -> 77 True\n",
      "286 484 -> 36 True\n",
      "287 482 -> 72 True\n",
      "288 489 -> 61 True\n",
      "289 351 -> 65 True\n",
      "290 356 -> 72 True\n",
      "291 380 -> 70 True\n",
      "292 378 -> 50 True\n",
      "293 322 -> 76 True\n",
      "294 341 -> 61 True\n",
      "295 486 -> 78 True\n",
      "296 319 -> 69 True\n",
      "297 452 -> 62 True\n",
      "298 393 -> 67 True\n",
      "299 398 -> 32 True\n",
      "300 327 -> 71 True\n",
      "301 397 -> 43 True\n",
      "302 447 -> 43 True\n",
      "303 412 -> 42 True\n",
      "Sum moves 1198\n",
      "wreath_7/7\n",
      "Sum moves  7488\n",
      "Dim: 12 Lenght base; 10 Sum Orbits: 75\n"
     ]
    },
    {
     "name": "stderr",
     "output_type": "stream",
     "text": [
      "100%|██████████| 75/75 [00:00<00:00, 636.36it/s]"
     ]
    },
    {
     "name": "stdout",
     "output_type": "stream",
     "text": [
      "(True, 186)\n"
     ]
    },
    {
     "name": "stderr",
     "output_type": "stream",
     "text": [
      "\n"
     ]
    },
    {
     "name": "stdout",
     "output_type": "stream",
     "text": [
      "304 422 -> 103 True\n",
      "305 441 -> 99 True\n",
      "306 428 -> 144 True\n",
      "307 409 -> 83 True\n",
      "308 470 -> 90 True\n",
      "309 408 -> 71 True\n",
      "310 421 -> 127 True\n",
      "311 706 -> 109 True\n",
      "312 556 -> 115 True\n",
      "313 453 -> 69 True\n",
      "314 752 -> 97 True\n",
      "315 508 -> 68 True\n",
      "316 501 -> 60 True\n",
      "317 406 -> 34 True\n",
      "318 607 -> 108 True\n",
      "Sum moves 1377\n",
      "globe_6/4\n",
      "Sum moves  16090\n",
      "Dim: 56 Lenght base; 46 Sum Orbits: 413\n"
     ]
    },
    {
     "name": "stderr",
     "output_type": "stream",
     "text": [
      "100%|██████████| 413/413 [00:14<00:00, 27.68it/s]\n"
     ]
    },
    {
     "name": "stdout",
     "output_type": "stream",
     "text": [
      "(True, 2110)\n",
      "373 2401 -> 600 True\n",
      "374 2906 -> 588 True\n",
      "375 3805 -> 778 True\n",
      "376 2712 -> 968 True\n",
      "377 4266 -> 684 True\n",
      "Sum moves 3618\n"
     ]
    }
   ],
   "source": [
    "nretry = 1\n",
    "for type in ltypes:\n",
    "    print(type)\n",
    "   \n",
    "    ids = sub[path.puzzle_type == type].id.values\n",
    "    gens = eval(info[info.puzzle_type == type].allowed_moves.values[0])\n",
    "    N =max([max(gens[g]) for g in gens])+1\n",
    "    gens = {g:Permutation(gens[g],size = N) for g in gens}\n",
    "    \n",
    "    \n",
    "    for _ in range(nretry):\n",
    "        sols = sub[path.puzzle_type == type].moves.values\n",
    "        ll = sub.loc[path.puzzle_type == type,'moves'] .map(lambda x: len(x.split(\".\"))).sum()\n",
    "        print('Sum moves ', ll)\n",
    "        PG = SGSPermutationGroup(gens)\n",
    "        print('Dim:',PG.N,'Lenght base;',len(PG.base),'Sum Orbits:',PG.so)\n",
    "        geninvs = PG.geninvs\n",
    "        PG.getShortWords(n=100000, s=1000, w=500)\n",
    "        print(PG.CheckQuality())\n",
    "    \n",
    "\n",
    "        for i,sol in enumerate(sols):\n",
    "            sol = sol.split('.')\n",
    "            sol.reverse()\n",
    "            target = applyPerm(sol)\n",
    "            ss = PG.FactorPermutation(target)\n",
    "            if len(ss) > len(sol):\n",
    "                ss = sol\n",
    "            ss = ReduceFactor(PG,ss,10)\n",
    "            if target != applyPerm(ss):\n",
    "                print('error',applyPerm(sol),applyPerm(ss)) \n",
    "                continue\n",
    "            ss.reverse()\n",
    "    \n",
    "            flag,_ =val_score(ids[i],'.'.join(ss))\n",
    "            #if len(ss)<len(sol):\n",
    "            print(ids[i],len(sol),'->',len(ss),flag)\n",
    "            if (len(ss)<len(sol) and flag):\n",
    "                sub.loc[sub.id == ids[i],'moves'] = '.'.join(ss)\n",
    "        ll = sub.loc[path.puzzle_type == type,'moves'] .map(lambda x: len(x.split(\".\"))).sum()\n",
    "        print( 'Sum moves', ll)"
   ]
  }
 ],
 "metadata": {
  "kaggle": {
   "accelerator": "none",
   "dataSources": [
    {
     "databundleVersionId": 7339171,
     "sourceId": 65704,
     "sourceType": "competition"
    }
   ],
   "dockerImageVersionId": 30626,
   "isGpuEnabled": false,
   "isInternetEnabled": true,
   "language": "python",
   "sourceType": "notebook"
  },
  "kernelspec": {
   "display_name": "Python 3",
   "language": "python",
   "name": "python3"
  },
  "language_info": {
   "codemirror_mode": {
    "name": "ipython",
    "version": 3
   },
   "file_extension": ".py",
   "mimetype": "text/x-python",
   "name": "python",
   "nbconvert_exporter": "python",
   "pygments_lexer": "ipython3",
   "version": "3.12.0"
  },
  "papermill": {
   "default_parameters": {},
   "duration": 187.87226,
   "end_time": "2024-01-19T09:47:16.231118",
   "environment_variables": {},
   "exception": null,
   "input_path": "__notebook__.ipynb",
   "output_path": "__notebook__.ipynb",
   "parameters": {},
   "start_time": "2024-01-19T09:44:08.358858",
   "version": "2.4.0"
  }
 },
 "nbformat": 4,
 "nbformat_minor": 5
}
